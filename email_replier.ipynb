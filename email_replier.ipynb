{
  "nbformat": 4,
  "nbformat_minor": 0,
  "metadata": {
    "colab": {
      "provenance": [],
      "mount_file_id": "1QLcIRSFfc6uTEf_mDYKzDwTUv3uJ9Un4",
      "authorship_tag": "ABX9TyMbOllfbIoPLxWnAqdsN1sD",
      "include_colab_link": true
    },
    "kernelspec": {
      "name": "python3",
      "display_name": "Python 3"
    },
    "language_info": {
      "name": "python"
    }
  },
  "cells": [
    {
      "cell_type": "markdown",
      "metadata": {
        "id": "view-in-github",
        "colab_type": "text"
      },
      "source": [
        "<a href=\"https://colab.research.google.com/github/yupcoding1/Autmomatic_email_reply_system/blob/main/email_replier.ipynb\" target=\"_parent\"><img src=\"https://colab.research.google.com/assets/colab-badge.svg\" alt=\"Open In Colab\"/></a>"
      ]
    },
    {
      "cell_type": "code",
      "execution_count": null,
      "metadata": {
        "id": "lOsCBFlLN2Go",
        "colab": {
          "base_uri": "https://localhost:8080/"
        },
        "outputId": "19e3fd3e-1620-4470-a4b7-33a386b65861"
      },
      "outputs": [
        {
          "output_type": "stream",
          "name": "stdout",
          "text": [
            "\u001b[2K     \u001b[90m━━━━━━━━━━━━━━━━━━━━━━━━━━━━━━━━━━━━━━━━\u001b[0m \u001b[32m50.4/50.4 kB\u001b[0m \u001b[31m2.8 MB/s\u001b[0m eta \u001b[36m0:00:00\u001b[0m\n",
            "\u001b[2K   \u001b[90m━━━━━━━━━━━━━━━━━━━━━━━━━━━━━━━━━━━━━━━━\u001b[0m \u001b[32m103.5/103.5 kB\u001b[0m \u001b[31m6.1 MB/s\u001b[0m eta \u001b[36m0:00:00\u001b[0m\n",
            "\u001b[2K   \u001b[90m━━━━━━━━━━━━━━━━━━━━━━━━━━━━━━━━━━━━━━━━\u001b[0m \u001b[32m374.2/374.2 kB\u001b[0m \u001b[31m10.7 MB/s\u001b[0m eta \u001b[36m0:00:00\u001b[0m\n",
            "\u001b[2K   \u001b[90m━━━━━━━━━━━━━━━━━━━━━━━━━━━━━━━━━━━━━━━━\u001b[0m \u001b[32m75.6/75.6 kB\u001b[0m \u001b[31m4.5 MB/s\u001b[0m eta \u001b[36m0:00:00\u001b[0m\n",
            "\u001b[2K   \u001b[90m━━━━━━━━━━━━━━━━━━━━━━━━━━━━━━━━━━━━━━━━\u001b[0m \u001b[32m77.9/77.9 kB\u001b[0m \u001b[31m4.9 MB/s\u001b[0m eta \u001b[36m0:00:00\u001b[0m\n",
            "\u001b[2K   \u001b[90m━━━━━━━━━━━━━━━━━━━━━━━━━━━━━━━━━━━━━━━━\u001b[0m \u001b[32m139.8/139.8 kB\u001b[0m \u001b[31m8.2 MB/s\u001b[0m eta \u001b[36m0:00:00\u001b[0m\n",
            "\u001b[2K   \u001b[90m━━━━━━━━━━━━━━━━━━━━━━━━━━━━━━━━━━━━━━━━\u001b[0m \u001b[32m141.1/141.1 kB\u001b[0m \u001b[31m8.7 MB/s\u001b[0m eta \u001b[36m0:00:00\u001b[0m\n",
            "\u001b[2K   \u001b[90m━━━━━━━━━━━━━━━━━━━━━━━━━━━━━━━━━━━━━━━━\u001b[0m \u001b[32m58.3/58.3 kB\u001b[0m \u001b[31m2.7 MB/s\u001b[0m eta \u001b[36m0:00:00\u001b[0m\n",
            "\u001b[2K   \u001b[90m━━━━━━━━━━━━━━━━━━━━━━━━━━━━━━━━━━━━━━━━\u001b[0m \u001b[32m2.3/2.3 MB\u001b[0m \u001b[31m34.4 MB/s\u001b[0m eta \u001b[36m0:00:00\u001b[0m\n",
            "\u001b[2K   \u001b[90m━━━━━━━━━━━━━━━━━━━━━━━━━━━━━━━━━━━━━━━━\u001b[0m \u001b[32m1.1/1.1 MB\u001b[0m \u001b[31m34.3 MB/s\u001b[0m eta \u001b[36m0:00:00\u001b[0m\n",
            "\u001b[2K   \u001b[90m━━━━━━━━━━━━━━━━━━━━━━━━━━━━━━━━━━━━━━━━\u001b[0m \u001b[32m990.3/990.3 kB\u001b[0m \u001b[31m31.3 MB/s\u001b[0m eta \u001b[36m0:00:00\u001b[0m\n",
            "\u001b[2K   \u001b[90m━━━━━━━━━━━━━━━━━━━━━━━━━━━━━━━━━━━━━━━━\u001b[0m \u001b[32m49.2/49.2 kB\u001b[0m \u001b[31m2.9 MB/s\u001b[0m eta \u001b[36m0:00:00\u001b[0m\n",
            "\u001b[2K   \u001b[90m━━━━━━━━━━━━━━━━━━━━━━━━━━━━━━━━━━━━━━━━\u001b[0m \u001b[32m102.6/102.6 kB\u001b[0m \u001b[31m3.4 MB/s\u001b[0m eta \u001b[36m0:00:00\u001b[0m\n",
            "\u001b[?25h"
          ]
        }
      ],
      "source": [
        "!pip -q install langchain-groq\n",
        "!pip -q install -U langchain_community tiktoken langchainhub\n",
        "!pip -q install -U langchain langgraph"
      ]
    },
    {
      "cell_type": "code",
      "source": [
        "!pip -q install langchain-chroma bs4\n",
        "!pip -q install huggingface_hub unstructured sentence_transformers"
      ],
      "metadata": {
        "id": "WwvX3ScvN7C-"
      },
      "execution_count": null,
      "outputs": []
    },
    {
      "cell_type": "code",
      "source": [
        "import os\n",
        "from pprint import pprint\n",
        "from google.colab import userdata\n",
        "\n",
        "\n",
        "os.environ[\"GROQ_API_KEY\"] = userdata.get('GROQ_API_KEY')\n",
        "os.environ[\"HF_TOKEN\"] = userdata.get('HF_TOKEN')"
      ],
      "metadata": {
        "id": "pxr3DdKbN-fQ"
      },
      "execution_count": null,
      "outputs": []
    },
    {
      "cell_type": "code",
      "source": [
        "from langchain_community.document_loaders.csv_loader import CSVLoader\n",
        "\n",
        "loader_csv = CSVLoader(file_path=\"/content/drive/MyDrive/Colab Notebooks/questions.csv\")\n",
        "data=loader_csv.load()"
      ],
      "metadata": {
        "id": "td4gobKyOLHY"
      },
      "execution_count": null,
      "outputs": []
    },
    {
      "cell_type": "code",
      "source": [
        "from google.colab import drive\n",
        "drive.mount('/content/drive')"
      ],
      "metadata": {
        "colab": {
          "base_uri": "https://localhost:8080/"
        },
        "id": "2F32gSX0OsOQ",
        "outputId": "ebec6b69-7850-46f2-85a0-66428f198763"
      },
      "execution_count": null,
      "outputs": [
        {
          "output_type": "stream",
          "name": "stdout",
          "text": [
            "Drive already mounted at /content/drive; to attempt to forcibly remount, call drive.mount(\"/content/drive\", force_remount=True).\n"
          ]
        }
      ]
    },
    {
      "cell_type": "code",
      "source": [
        "from langchain.text_splitter import RecursiveCharacterTextSplitter\n",
        "#splitting the text into\n",
        "text_splitter = RecursiveCharacterTextSplitter(chunk_size=1000, chunk_overlap=200)\n",
        "texts = text_splitter.split_documents(data)\n",
        "\n",
        "len(texts)"
      ],
      "metadata": {
        "colab": {
          "base_uri": "https://localhost:8080/"
        },
        "id": "C0eA7G9uQ_J7",
        "outputId": "690cbf31-5d9c-4559-e70d-336e0ffc97f7"
      },
      "execution_count": null,
      "outputs": [
        {
          "output_type": "execute_result",
          "data": {
            "text/plain": [
              "37"
            ]
          },
          "metadata": {},
          "execution_count": 78
        }
      ]
    },
    {
      "cell_type": "code",
      "source": [
        "from langchain.embeddings import HuggingFaceBgeEmbeddings\n",
        "\n",
        "model_name = \"BAAI/bge-base-en\"\n",
        "encode_kwargs = {'normalize_embeddings': True} # set True to compute cosine similarity\n",
        "\n",
        "bge_embeddings = HuggingFaceBgeEmbeddings(\n",
        "    model_name=model_name,\n",
        "    model_kwargs={'device': 'cpu'},\n",
        "    encode_kwargs=encode_kwargs\n",
        ")"
      ],
      "metadata": {
        "id": "mM3g6vbbRIXI"
      },
      "execution_count": null,
      "outputs": []
    },
    {
      "cell_type": "code",
      "source": [
        "from langchain_chroma import Chroma\n",
        "\n",
        "persist_directory = 'db'\n",
        "\n",
        "## Here you can change the embeddings etc\n",
        "embedding = bge_embeddings\n",
        "\n",
        "vectordb = Chroma.from_documents(documents=texts,\n",
        "                                 embedding=embedding,\n",
        "                                 persist_directory=persist_directory)"
      ],
      "metadata": {
        "id": "dwF8vYxdRM0n"
      },
      "execution_count": null,
      "outputs": []
    },
    {
      "cell_type": "code",
      "source": [
        "retriever = vectordb.as_retriever(search_kwargs={\"k\": 5})"
      ],
      "metadata": {
        "id": "c5ylD8f4Rpqk"
      },
      "execution_count": null,
      "outputs": []
    },
    {
      "cell_type": "markdown",
      "source": [
        "Making Agents"
      ],
      "metadata": {
        "id": "EaImTa_GXkjH"
      }
    },
    {
      "cell_type": "code",
      "source": [
        "from langchain_core.prompts import ChatPromptTemplate\n",
        "from langchain.prompts import PromptTemplate\n",
        "from langchain_core.runnables import RunnablePassthrough\n",
        "\n",
        "from langchain_core.output_parsers import StrOutputParser\n",
        "from langchain_core.output_parsers import JsonOutputParser"
      ],
      "metadata": {
        "id": "LcLOB9LCR-TJ"
      },
      "execution_count": null,
      "outputs": []
    },
    {
      "cell_type": "code",
      "source": [
        "from langchain_groq import ChatGroq\n",
        "\n",
        "GROQ_LLM = ChatGroq(\n",
        "            model=\"llama3-70b-8192\",\n",
        "        )"
      ],
      "metadata": {
        "id": "XB-lsNkiSDHE"
      },
      "execution_count": null,
      "outputs": []
    },
    {
      "cell_type": "code",
      "source": [
        "#RAG Chain\n",
        "rag_prompt = PromptTemplate(\n",
        "    template=\"\"\"<|begin_of_text|><|start_header_id|>system<|end_header_id|>\n",
        "    You are an assistant for question-answering tasks. Use the following pieces of retrieved context to answer the question. If you don't know the answer, just say that you don't know. Use three sentences maximum and keep the answer concise.\\n\n",
        "\n",
        "     <|eot_id|><|start_header_id|>user<|end_header_id|>\n",
        "    QUESTION: {question} \\n\n",
        "    CONTEXT: {context} \\n\n",
        "    Answer:\n",
        "    <|eot_id|>\n",
        "    <|start_header_id|>assistant<|end_header_id|>\n",
        "    \"\"\",\n",
        "    input_variables=[\"question\",\"context\"],\n",
        ")\n",
        "\n",
        "rag_prompt_chain = rag_prompt | GROQ_LLM | StrOutputParser()\n",
        "\n",
        "QUESTION = \"\"\"why am i here\"\"\"\n",
        "CONTEXT = retriever.invoke(QUESTION)\n",
        "\n",
        "result = rag_prompt_chain.invoke({\"question\": QUESTION, \"context\":CONTEXT})\n",
        "\n",
        "print(result)"
      ],
      "metadata": {
        "colab": {
          "base_uri": "https://localhost:8080/"
        },
        "id": "eQpPh2eySFa1",
        "outputId": "35ad41b4-de8b-49cc-e847-09d61c75f714"
      },
      "execution_count": null,
      "outputs": [
        {
          "output_type": "stream",
          "name": "stdout",
          "text": [
            "I don't know why you are here as the provided context does not contain any information related to your question. The context appears to be a collection of questions and answers about various topics, including microphones and camera rentals, but it does not provide any information about your personal presence or purpose.\n"
          ]
        }
      ]
    },
    {
      "cell_type": "code",
      "source": [
        "rag_chain = (\n",
        "    {\"context\": retriever , \"question\": RunnablePassthrough()}\n",
        "    | rag_prompt\n",
        "    | GROQ_LLM\n",
        "    | StrOutputParser()\n",
        ")"
      ],
      "metadata": {
        "id": "efT66fWFWPTV"
      },
      "execution_count": null,
      "outputs": []
    },
    {
      "cell_type": "code",
      "source": [
        "rag_chain.invoke(\"what is the rquipment is damaged?\")"
      ],
      "metadata": {
        "colab": {
          "base_uri": "https://localhost:8080/",
          "height": 53
        },
        "id": "-KF3biBHXMLq",
        "outputId": "39b4815c-f076-4551-8b6d-5950f1bbe651"
      },
      "execution_count": null,
      "outputs": [
        {
          "output_type": "execute_result",
          "data": {
            "text/plain": [
              "'You may be liable for repair or replacement costs depending on the extent of the damage. Additionally, damage fees may be charged. Please contact the rental company immediately if the equipment is damaged.'"
            ],
            "application/vnd.google.colaboratory.intrinsic+json": {
              "type": "string"
            }
          },
          "metadata": {},
          "execution_count": 86
        }
      ]
    },
    {
      "cell_type": "markdown",
      "source": [
        "<h1>Basic chains<h1/>\n",
        "\n",
        "* Categorize Emails +\n",
        "* search Items +\n",
        "* inquiry email return +\n",
        "* Sentiment check +\n",
        "* thanks email +\n",
        "* CRM system +\n",
        "* RAG Questions +\n"
      ],
      "metadata": {
        "id": "5puavEiPZDP0"
      }
    },
    {
      "cell_type": "code",
      "source": [
        "#Categorize EMAIL\n",
        "categoize_prompt = PromptTemplate(\n",
        "    template=\"\"\"<|begin_of_text|><|start_header_id|>system<|end_header_id|>\n",
        "    You are the Email Categorizer Agent for the film equipment rental service,You are a master at \\\n",
        "    understanding what a customer wants when they write an email and are able to categorize \\\n",
        "    it in a useful way. \\\n",
        "\n",
        "     <|eot_id|><|start_header_id|>user<|end_header_id|>\n",
        "    Conduct a comprehensive analysis of the email provided and categorize into one of the following categories:\n",
        "        availability_inquiry - used when someone is asking about the availability of equipments \\\n",
        "        customer_review - used when someone is conveying their experience either giving a positive review or complaining about something, they areproviding their feedback \\\n",
        "        product_enquiry - used when someone is asking for information about a product feature, benefit or service but not about pricing \\\\\n",
        "        off_topic - when it doesnt relate to any other category \\\n",
        "\n",
        "\n",
        "            Output a single category only from the types ('availability_inquiry', 'customer_review', 'product_enquiry', 'off_topic') \\\n",
        "            eg:\n",
        "            'availability_inquiry' \\\n",
        "\n",
        "    EMAIL CONTENT:\\n\\n {initial_email} \\n\\n\n",
        "    <|eot_id|>\n",
        "    <|start_header_id|>assistant<|end_header_id|>\n",
        "    \"\"\",\n",
        "    input_variables=[\"initial_email\"],\n",
        ")\n",
        "\n",
        "email_category_generator = categoize_prompt | GROQ_LLM | StrOutputParser()\n",
        "\n",
        "EMAIL = \"\"\"HI there, \\n\n",
        "do you have any new cameras \\n\n",
        "\n",
        "I am looking for new experiences.\n",
        "\n",
        "Thanks,\n",
        "Paul\n",
        "\"\"\"\n",
        "\n",
        "result = email_category_generator.invoke({\"initial_email\": EMAIL})\n",
        "\n",
        "print(result)"
      ],
      "metadata": {
        "colab": {
          "base_uri": "https://localhost:8080/"
        },
        "id": "BlvsnL3nXmNP",
        "outputId": "f66c23be-581b-40d5-d6dd-b8d0661b5ec1"
      },
      "execution_count": null,
      "outputs": [
        {
          "output_type": "stream",
          "name": "stdout",
          "text": [
            "'product_enquiry'\n"
          ]
        }
      ]
    },
    {
      "cell_type": "code",
      "source": [
        "## RAG QUESTIONS\n",
        "search_rag_prompt = PromptTemplate(\n",
        "    template=\"\"\"<|begin_of_text|><|start_header_id|>system<|end_header_id|>\n",
        "    You are a master at working out the best questions to ask our knowledge agent to get the best info for the customer.\n",
        "\n",
        "    given the INITIAL_EMAIL. Work out the best questions that will find the best \\\n",
        "    info for helping to write the final email. Remember when people ask about a renting they are \\\n",
        "    probably reffering to the film equipment renting. Write the questions to our knowledge system not to the customer.\n",
        "\n",
        "    Return a JSON with a single key 'questions' with no more than 3 strings of and no premable or explaination.\n",
        "    Make sure you are returning a JSON only\n",
        "\n",
        "    <|eot_id|><|start_header_id|>user<|end_header_id|>\n",
        "    INITIAL_EMAIL: {initial_email} \\n\n",
        "    <|eot_id|><|start_header_id|>assistant<|end_header_id|>\"\"\",\n",
        "    input_variables=[\"initial_email\"],\n",
        ")\n",
        "\n",
        "search_rag = search_rag_prompt | GROQ_LLM | JsonOutputParser()\n",
        "\n",
        "\n",
        "\n",
        "print(search_rag.invoke({\"initial_email\": EMAIL}))"
      ],
      "metadata": {
        "colab": {
          "base_uri": "https://localhost:8080/"
        },
        "id": "q9QjfdO_dlFt",
        "outputId": "8c51dc4d-2b6e-4c3d-d823-466a0a204997"
      },
      "execution_count": null,
      "outputs": [
        {
          "output_type": "stream",
          "name": "stdout",
          "text": [
            "{'questions': ['What are the steps to report damaged equipment during a rental?', 'What is the process for extending a rental period?', \"What are the customer's responsibilities for equipment damage during a rental?\"]}\n"
          ]
        }
      ]
    },
    {
      "cell_type": "code",
      "source": [
        "## Item searcher\n",
        "search_item_prompt = PromptTemplate(\n",
        "    template=\"\"\"<|begin_of_text|><|start_header_id|>system<|end_header_id|>\n",
        "    You are the best at knowing what a person wants,\n",
        "\n",
        "    given the INITIAL_EMAIL. Work out the film equipments the email sender wants. \\\n",
        "     Remember when people ask about a renting they are probably reffering to the film equipment renting.\\\n",
        "    Remember tthe items that you give should be inside the INITIAL_EMAIL\n",
        "\n",
        "    Return a JSON with a single key 'items' with no premable or explaination.\n",
        "\n",
        "    <|eot_id|><|start_header_id|>user<|end_header_id|>\n",
        "    INITIAL_EMAIL: {initial_email} \\n\n",
        "    <|eot_id|><|start_header_id|>assistant<|end_header_id|>\"\"\",\n",
        "    input_variables=[\"initial_email\"],\n",
        ")\n",
        "\n",
        "search_item_ = search_item_prompt | GROQ_LLM | JsonOutputParser()\n",
        "\n",
        "EMAIL = \"\"\"HI there, \\n\n",
        "do you have any new Canon EF 24-70mm f/2.8L II \\n\n",
        ", Atomos Ninja V and Aputure Light Dome II\\n\n",
        "I also want a burger please.\n",
        "\n",
        "I am looking for new experiences.\n",
        "\n",
        "Thanks,\n",
        "Paul\n",
        "\"\"\"\n",
        "\n",
        "print(search_item_.invoke({\"initial_email\": EMAIL}))"
      ],
      "metadata": {
        "colab": {
          "base_uri": "https://localhost:8080/"
        },
        "id": "4jOn2RMVe6tS",
        "outputId": "8023e573-7429-46aa-f07d-bfe706ef1527"
      },
      "execution_count": null,
      "outputs": [
        {
          "output_type": "stream",
          "name": "stdout",
          "text": [
            "{'items': ['Canon EF 24-70mm f/2.8L II', 'Atomos Ninja V', 'Aputure Light Dome II']}\n"
          ]
        }
      ]
    },
    {
      "cell_type": "code",
      "source": [
        "## Write Draft Email\n",
        "write_inquiry_email_prompt = PromptTemplate(\n",
        "    template=\"\"\"<|begin_of_text|><|start_header_id|>system<|end_header_id|>\n",
        "    You are the Email Writer Agent for the Film Equipment Rental Service, take the INITIAL_EMAIL below \\\n",
        "    from a human that has emailed our company email address, items_asked that the human needs that item searcher gave \\\n",
        "    and the inventory_list_details with its details from the company inventory \\\n",
        "    write a helpful email in a thoughtful and friendly way.\n",
        "\n",
        "            if the item the human asked is in inventory and is available then provide them with the item details including pricing.\n",
        "            if the item the human asked is in inventory but is not available then apologize for the in availibilty of items and provide them with the similar items that are in our inventory remeber the items should be similar.\n",
        "            if the item the human asked is not in inventory tell them that the item they need is not rented by the us and give them similar item recommendation from the inventory\n",
        "\n",
        "            inventory_list_details is in the format of [(name, price),(name,price),...]\n",
        "            You never make up information that hasn't been provided by the inventory_list_details or in the initial_email.\n",
        "            make sure the recommendations you providehas to be inside the INVENTORY_LIST_DETAILS\n",
        "            Always sign off the emails in appropriate manner and from Mohammed the Resident Manager.\n",
        "            any items that is not related to the film equipment and is not present inside INVENTORY_LIST_DETAILS should be ignored.\n",
        "\n",
        "            Return the email a JSON with a single key 'email_draft' and no premable or explaination.\n",
        "\n",
        "    <|eot_id|><|start_header_id|>user<|end_header_id|>\n",
        "    INITIAL_EMAIL: {initial_email} \\n\n",
        "    SEARCH_ITEM: {search_item} \\n\n",
        "    INVENTORY_LIST_DETAILS: {inventory_list_details} \\n\n",
        "    <|eot_id|><|start_header_id|>assistant<|end_header_id|>\"\"\",\n",
        "    input_variables=[\"initial_email\",\"search_item\",\"inventory_list_details\"],\n",
        ")\n",
        "\n",
        "write_inquiry_email = write_inquiry_email_prompt | GROQ_LLM | JsonOutputParser()\n",
        "\n",
        "search_item={'items': ['Canon EF 24-70mm f/2.8L II', 'Atomos Ninja V', 'Aputure Light Dome II']}\n",
        "inventory_list_details=[('Canon EF 24-70mm f/2.8L II',1000)]\n",
        "\n",
        "\n",
        "print(write_inquiry_email.invoke({\"initial_email\": EMAIL, \"search_item\":search_item,\"inventory_list_details\":inventory_list_details}))\n",
        "\n"
      ],
      "metadata": {
        "colab": {
          "base_uri": "https://localhost:8080/"
        },
        "id": "cgHSbl98isxk",
        "outputId": "ded88f40-fffc-4618-8bc8-d1ca27a589ff"
      },
      "execution_count": null,
      "outputs": [
        {
          "output_type": "stream",
          "name": "stdout",
          "text": [
            "{'email_draft': \"Dear Paul,\\n\\nThank you for reaching out to us! We're excited to help you with your film equipment needs.\\n\\nWe do have the Canon EF 24-70mm f/2.8L II in our inventory, and it's available for rent at $1000.\\n\\nUnfortunately, we don't have the Atomos Ninja V and Aputure Light Dome II in our inventory. However, we can recommend similar items that might fit your needs. Please let us know if you're interested, and we'll be happy to provide you with some options.\\n\\nRegarding your request for a burger, I'm afraid we're a film equipment rental service and don't provide food services.\\n\\nIf you have any further questions or would like to proceed with the rental, please don't hesitate to reach out.\\n\\nBest regards,\\nMohammed the Resident Manager\"}\n"
          ]
        }
      ]
    },
    {
      "cell_type": "code",
      "source": [
        "## Item searcher\n",
        "sentiment_prompt = PromptTemplate(\n",
        "    template=\"\"\"<|begin_of_text|><|start_header_id|>system<|end_header_id|>\n",
        "    You are the best at knowing what a person feels, you are an expert in sentiment analysis and you know what type of review people give\\\n",
        "    either positive or negative\n",
        "\n",
        "    given the INITIAL_EMAIL. Find out the sentiment of the review. \\\n",
        "    remember the review should be either positive or negative.\\\n",
        "    if the person is happy with our serivices and items provided its a positive review\n",
        "    if the person is unhappy with our services or item provided its a negative review\n",
        "\n",
        "    Return a single word either positive or negative with no premable or explaination.\n",
        "    eg: 'positive' .\n",
        "\n",
        "    <|eot_id|><|start_header_id|>user<|end_header_id|>\n",
        "    INITIAL_EMAIL: {initial_email} \\n\n",
        "    <|eot_id|><|start_header_id|>assistant<|end_header_id|>\"\"\",\n",
        "    input_variables=[\"initial_email\"],\n",
        ")\n",
        "\n",
        "sentiment_ = sentiment_prompt | GROQ_LLM | StrOutputParser()\n",
        "\n",
        "EMAIL = \"\"\"HI there, \\n\n",
        "i was very happy with your services , but the items provided where bad.\n",
        "but i was happy with the number of items provided.\n",
        "\n",
        "I am looking for new experiences.\n",
        "\n",
        "Thanks,\n",
        "Paul\n",
        "\"\"\"\n",
        "\n",
        "print(sentiment_.invoke({\"initial_email\": EMAIL}))"
      ],
      "metadata": {
        "colab": {
          "base_uri": "https://localhost:8080/"
        },
        "id": "bjQ81JqpnGsl",
        "outputId": "ec210b92-5807-4907-e4de-36d5a7f8b223"
      },
      "execution_count": null,
      "outputs": [
        {
          "output_type": "stream",
          "name": "stdout",
          "text": [
            "negative\n"
          ]
        }
      ]
    },
    {
      "cell_type": "code",
      "source": [
        "## Write Draft Email\n",
        "write_review_email_prompt = PromptTemplate(\n",
        "    template=\"\"\"<|begin_of_text|><|start_header_id|>system<|end_header_id|>\n",
        "    You are the Email Writer Agent for the Film Equipment Rental Service, take the INITIAL_EMAIL below \\\n",
        "    from a human that has emailed our company email address and the REVIEW from the sentiment analyzer\\\n",
        "    write a helpful email in a thoughtful and friendly way.\n",
        "\n",
        "            if the review is positive then thank the sender and encorage them to share their experience on social media.\n",
        "            if the review is negative then escaltae to CRM system for follow-up with a phone call from the customer service and offer a gift voucher in the reply.\n",
        "\n",
        "            You never make up information that hasn't been provided in the initial_email.\n",
        "            make sure the recommendations you provide has to be inside the limits.\n",
        "            Always sign off the emails in appropriate manner and from Mohammed the Resident Manager.\n",
        "            Apologize for the fault caused and provided relating gift voucher\n",
        "\n",
        "            Return the email a JSON with a single key 'email_draft' and no premable or explaination.\n",
        "\n",
        "    <|eot_id|><|start_header_id|>user<|end_header_id|>\n",
        "    INITIAL_EMAIL: {initial_email} \\n\n",
        "    REVIEW: {review} \\n\n",
        "    <|eot_id|><|start_header_id|>assistant<|end_header_id|>\"\"\",\n",
        "    input_variables=[\"initial_email\",\"review\"],\n",
        ")\n",
        "\n",
        "write_review_email = write_review_email_prompt | GROQ_LLM | JsonOutputParser()\n",
        "review='negative'\n",
        "\n",
        "\n",
        "print(write_review_email.invoke({\"initial_email\": EMAIL, \"review\":review}))\n",
        "\n"
      ],
      "metadata": {
        "id": "udBDSYbJqTJW",
        "colab": {
          "base_uri": "https://localhost:8080/"
        },
        "outputId": "9b8ba496-2ca1-4edf-fae3-0b00eeb096b6"
      },
      "execution_count": null,
      "outputs": [
        {
          "output_type": "stream",
          "name": "stdout",
          "text": [
            "{'email_draft': \"Dear Paul,\\n\\nThank you for taking the time to share your feedback about our film equipment rental services. I'm sorry to hear that the items provided did not meet your expectations. I apologize for the inconvenience this has caused.\\n\\nI'd like to make things right and would appreciate the opportunity to discuss this further with you. I've escalated your concern to our customer service team, and they will be in touch with you via phone call to understand the issue better and provide a suitable solution.\\n\\nAs a gesture of goodwill, we'd like to offer you a gift voucher for your next rental. We value your business and would like to ensure that you have a better experience with us in the future.\\n\\nThank you for your patience and understanding.\\n\\nBest regards,\\nMohammed, Resident Manager\"}\n"
          ]
        }
      ]
    },
    {
      "cell_type": "code",
      "source": [
        "## Write Draft Email\n",
        "write_CS_email_prompt = PromptTemplate(\n",
        "    template=\"\"\"<|begin_of_text|><|start_header_id|>system<|end_header_id|>\n",
        "    You are the Email Writer Agent for the Film Equipment Rental Service, take the INITIAL_EMAIL below \\\n",
        "    from a human that has emailed our company email address and the REVIEW from the sentiment analyzer\\\n",
        "    write a helpful email and professional email to the cusotmer service side.\n",
        "    Remember you are emailing your own coworker in the customer service side.\n",
        "\n",
        "            if negative review is provided then forward the email by the client and ask the customer service to handle it.\n",
        "            if no review is provided then forward it as the email might be more concerned towards customer service.\n",
        "            if review is postive return null string\n",
        "            You never make up information that hasn't been provided in the initial_email.\n",
        "            make sure the recommendations you provide has to be inside the limits.\n",
        "            Always sign off the emails in appropriate manner and from Mohammed the Resident Manager.\n",
        "            Ask the customer service to handle it professionally.\n",
        "            remember if the review is positive the string returned should be empty.\n",
        "            Return the email a JSON with a single key 'email_draft' and no premable or explaination.\n",
        "\n",
        "    <|eot_id|><|start_header_id|>user<|end_header_id|>\n",
        "    INITIAL_EMAIL: {initial_email} \\n\n",
        "    REVIEW: {review} \\n\n",
        "    <|eot_id|><|start_header_id|>assistant<|end_header_id|>\"\"\",\n",
        "    input_variables=[\"initial_email\",\"review\"],\n",
        ")\n",
        "\n",
        "write_CS_email = write_CS_email_prompt | GROQ_LLM | JsonOutputParser()\n",
        "review='positive'\n",
        "\n",
        "\n",
        "print(write_CS_email.invoke({\"initial_email\": EMAIL, \"review\":review}))\n",
        "\n"
      ],
      "metadata": {
        "colab": {
          "base_uri": "https://localhost:8080/"
        },
        "id": "l7H5L8RV8FjY",
        "outputId": "23231e3d-b19f-45c4-e3d4-be3807d697d4"
      },
      "execution_count": null,
      "outputs": [
        {
          "output_type": "stream",
          "name": "stdout",
          "text": [
            "{'email_draft': ''}\n"
          ]
        }
      ]
    },
    {
      "cell_type": "code",
      "source": [
        "## Write Draft Email\n",
        "write_RAG_email_prompt = PromptTemplate(\n",
        "    template=\"\"\"<|begin_of_text|><|start_header_id|>system<|end_header_id|>\n",
        "    You are the Email Writer Agent for the Film Equipment Rental Service, take the INITIAL_EMAIL below \\\n",
        "    from a human that has emailed our company email address and RAG_QUESTIONS that are given by the analylist\\\n",
        "    write a helpful email and professional email to the cusotmer service side.\n",
        "    Remember only answer the questions that are asked.\n",
        "\n",
        "            if proper answer is given to questions, then email the answers accuratley\n",
        "            if proper answers are not provided escalate the issue to customer service\n",
        "\n",
        "            You never make up information that hasn't been provided in the initial_email.\n",
        "            Always sign off the emails in appropriate manner and from Mohammed the Resident Manager.\n",
        "\n",
        "            Return the email a JSON with a single key 'email_draft' and no premable or explaination.\n",
        "\n",
        "    <|eot_id|><|start_header_id|>user<|end_header_id|>\n",
        "    INITIAL_EMAIL: {initial_email} \\n\n",
        "    RAG_QUESTIONS: {questions} \\n\n",
        "    <|eot_id|><|start_header_id|>assistant<|end_header_id|>\"\"\",\n",
        "    input_variables=[\"initial_email\",\"questions\"],\n",
        ")\n",
        "\n",
        "write_RAG_email = write_RAG_email_prompt | GROQ_LLM | JsonOutputParser()\n",
        "review=['What are the latest camera models available for rent?', 'What kind of camera equipment is recommended for beginners looking to try new experiences?', 'What are some popular camera rentals for creative projects or unique experiences?']\n",
        "\n",
        "\n",
        "print(write_RAG_email.invoke({\"initial_email\": EMAIL, \"questions\":review}))\n",
        "\n"
      ],
      "metadata": {
        "colab": {
          "base_uri": "https://localhost:8080/"
        },
        "id": "ZAgcuw57-V_o",
        "outputId": "f751628a-5306-4611-b8fd-a92350f79c78"
      },
      "execution_count": null,
      "outputs": [
        {
          "output_type": "stream",
          "name": "stdout",
          "text": [
            "{'email_draft': \"Dear Paul,\\n\\nThank you for your feedback about our services. We apologize for the issues you experienced with the items provided and appreciate your positive comment about the quantity of items.\\n\\nRegarding your interest in new experiences, we'd be happy to help you explore our range of camera equipment. \\n\\nTo answer your questions, our latest camera models available for rent include the Sony A7S III, Canon EOS R5, and Nikon Z9. For beginners looking to try new experiences, we recommend starting with a basic DSLR kit or a mirrorless camera with a versatile lens.\\n\\nAs for popular camera rentals for creative projects or unique experiences, our clients have been enjoying the DJI Ronin 4D, ARRI ALEXA Mini, and the RED Komodo. These cameras offer advanced features and exceptional image quality.\\n\\nIf you'd like to discuss your project or experience further, please don't hesitate to reach out. We're here to help.\\n\\nBest regards,\\nMohammed, Resident Manager\"}\n"
          ]
        }
      ]
    },
    {
      "cell_type": "code",
      "source": [
        "from langchain.schema import Document\n",
        "from langgraph.graph import END, StateGraph"
      ],
      "metadata": {
        "id": "_d0Xf4Ou-VQf"
      },
      "execution_count": null,
      "outputs": []
    },
    {
      "cell_type": "code",
      "source": [
        "from typing_extensions import TypedDict\n",
        "from typing import List,Tuple\n",
        "\n",
        "### State\n",
        "\n",
        "class GraphState(TypedDict):\n",
        "    \"\"\"\n",
        "    Represents the state of our graph.\n",
        "\n",
        "    Attributes:\n",
        "        initial_email: email\n",
        "        email_category: email category\n",
        "\n",
        "        final_email: LLM generation\n",
        "\n",
        "        num_steps: number of steps\n",
        "    \"\"\"\n",
        "    initial_email : str\n",
        "    email_category : str\n",
        "    final_email : str\n",
        "    CS_email : str\n",
        "    rag_results : List[str] # this will now be the RAG results\n",
        "    sentiment : str\n",
        "    num_steps : int\n",
        "    search_item : List[str]\n",
        "    rag_questions : List[str]\n",
        "    inventory_list_details : List[Tuple[str,int]]"
      ],
      "metadata": {
        "id": "LS6p9LKg-5XU"
      },
      "execution_count": null,
      "outputs": []
    },
    {
      "cell_type": "markdown",
      "source": [
        "<h1>Nodes<h1/>\n",
        "\n",
        "\n",
        "* categorize_email\n",
        "* check_items\n",
        "* Inquery_handling\n",
        "* analyze_draft_email\n",
        "* rewrite_email\n",
        "* Sentiment_email\n",
        "* CS_email\n",
        "* question_handling\n",
        "   \n",
        "\n"
      ],
      "metadata": {
        "id": "bTpheqjBCFIy"
      }
    },
    {
      "cell_type": "code",
      "source": [
        "def categorize_email(state):\n",
        "    \"\"\"take the initial email and categorize it\"\"\"\n",
        "    print(\"---CATEGORIZING INITIAL EMAIL---\")\n",
        "    initial_email = state['initial_email']\n",
        "    num_steps = int(state['num_steps'])\n",
        "    num_steps += 1\n",
        "\n",
        "    email_category = email_category_generator.invoke({\"initial_email\": initial_email})\n",
        "    print(email_category)\n",
        "\n",
        "    return {\"email_category\": email_category, \"num_steps\":num_steps}"
      ],
      "metadata": {
        "id": "pqq6pmOP_V2x"
      },
      "execution_count": null,
      "outputs": []
    },
    {
      "cell_type": "code",
      "source": [
        "\n",
        "def question_handling(state):\n",
        "\n",
        "    print(\"--- INFO RAG---\")\n",
        "    initial_email = state[\"initial_email\"]\n",
        "    email_category = state[\"email_category\"]\n",
        "    num_steps = state['num_steps']\n",
        "    num_steps += 1\n",
        "\n",
        "    # Web search\n",
        "    questions = search_rag.invoke({\"initial_email\": initial_email})\n",
        "    questions = questions['questions']\n",
        "    # print(questions)\n",
        "    rag_results = []\n",
        "    for question in questions:\n",
        "        print(question)\n",
        "        temp_docs = rag_chain.invoke(question)\n",
        "        print(temp_docs)\n",
        "        question_results = question + '\\n\\n' + temp_docs + \"\\n\\n\\n\"\n",
        "        if rag_results is not None:\n",
        "            rag_results.append(question_results)\n",
        "        else:\n",
        "            rag_results = [question_results]\n",
        "\n",
        "    return {\"rag_results\": rag_results,\"rag_questions\":questions, \"num_steps\":num_steps}"
      ],
      "metadata": {
        "id": "kFjLdq2pDsU9"
      },
      "execution_count": null,
      "outputs": []
    },
    {
      "cell_type": "code",
      "source": [
        "def sentiment_email(state):\n",
        "    \"\"\"takes email as input, finds sentiments and gives sentiment email as an output\"\"\"\n",
        "    print(\"---FINDING SENTIMENTS---\")\n",
        "    initial_email = state['initial_email']\n",
        "    num_steps = int(state['num_steps'])\n",
        "    num_steps += 1\n",
        "\n",
        "    sentiment=sentiment_.invoke({\"initial_email\": EMAIL})\n",
        "\n",
        "\n",
        "    return {\"num_steps\":num_steps,\"sentiment\":sentiment}"
      ],
      "metadata": {
        "id": "8GM1-9jDLgOU"
      },
      "execution_count": null,
      "outputs": []
    },
    {
      "cell_type": "code",
      "source": [
        "def review_email(state):\n",
        "    \"\"\"takes enail as input, finds sentiments and gives sentiment email as an output\"\"\"\n",
        "    print(\"---getting the review email---\")\n",
        "    initial_email = state['initial_email']\n",
        "    review=state['sentiment']\n",
        "    num_steps = int(state['num_steps'])\n",
        "    num_steps += 1\n",
        "\n",
        "    email=write_review_email.invoke({\"initial_email\": EMAIL, \"review\":review})\n",
        "\n",
        "\n",
        "    return {\"num_steps\":num_steps,\"final_email\":email[\"email_draft\"]}"
      ],
      "metadata": {
        "id": "h798VlPeMu8n"
      },
      "execution_count": null,
      "outputs": []
    },
    {
      "cell_type": "code",
      "source": [
        "def Cs_email(state):\n",
        "    \"\"\"mail to the customer service department\"\"\"\n",
        "    print(\"---getting the customer service email---\")\n",
        "    initial_email = state['initial_email']\n",
        "    review=state['sentiment']\n",
        "    num_steps = int(state['num_steps'])\n",
        "    num_steps += 1\n",
        "\n",
        "\n",
        "    CS_email=write_CS_email.invoke({\"initial_email\": EMAIL, \"review\":review})\n",
        "\n",
        "    return {\"num_steps\":num_steps,\"CS_email\":CS_email[\"email_draft\"]}"
      ],
      "metadata": {
        "id": "CCWnlnRtOajd"
      },
      "execution_count": null,
      "outputs": []
    },
    {
      "cell_type": "code",
      "source": [
        "def get_items(state):\n",
        "    \"\"\"mail to the customer service department\"\"\"\n",
        "    print(\"---getting the customer service email---\")\n",
        "    initial_email = state['initial_email']\n",
        "    num_steps = int(state['num_steps'])\n",
        "    num_steps += 1\n",
        "    import sqlite3\n",
        "    conn = sqlite3.connect('/content/drive/MyDrive/Colab Notebooks/emaildb')\n",
        "    search_item = search_item_.invoke({\"initial_email\": EMAIL})\n",
        "    cursor = conn.cursor()\n",
        "    cursor.execute('''SELECT name, price FROM rental_equipment''')\n",
        "    inventory_list = cursor.fetchall()\n",
        "\n",
        "    return {\"num_steps\":num_steps,\"search_item\":search_item,\"inventory_list_details\":inventory_list}"
      ],
      "metadata": {
        "id": "xxw3PiovPT9G"
      },
      "execution_count": null,
      "outputs": []
    },
    {
      "cell_type": "code",
      "source": [
        "def inquery_email(state):\n",
        "    \"\"\"mail to get the price list or similar recommendation\"\"\"\n",
        "    print(\"---getting the inquery email---\")\n",
        "    initial_email = state['initial_email']\n",
        "    search_item = state['search_item']\n",
        "    inventory_list_details=state['inventory_list_details']\n",
        "    num_steps = int(state['num_steps'])\n",
        "    num_steps += 1\n",
        "\n",
        "\n",
        "    final_email=write_inquiry_email.invoke({\"initial_email\": EMAIL, \"search_item\":search_item,\"inventory_list_details\":inventory_list_details})\n",
        "\n",
        "    return {\"num_steps\":num_steps,\"final_email\":final_email[\"email_draft\"]}"
      ],
      "metadata": {
        "id": "RGvmcCRH6mxF"
      },
      "execution_count": null,
      "outputs": []
    },
    {
      "cell_type": "code",
      "source": [
        "\n",
        "def write_rag_email(state):\n",
        "    \"\"\"this finally forms the proper answer emal for rag\"\"\"\n",
        "    print(\"---getting rag email---\")\n",
        "    initial_email = state['initial_email']\n",
        "    rag_questions=state['rag_questions']\n",
        "    num_steps = int(state['num_steps'])\n",
        "    num_steps += 1\n",
        "\n",
        "    final_email=write_RAG_email.invoke({\"initial_email\": EMAIL, \"questions\":rag_questions})\n",
        "    return {\"num_steps\":num_steps,\"final_email\":final_email[\"email_draft\"]}"
      ],
      "metadata": {
        "id": "WwWORjMkAoUx"
      },
      "execution_count": null,
      "outputs": []
    },
    {
      "cell_type": "markdown",
      "source": [
        "<h1>Conditional edges<h1/>"
      ],
      "metadata": {
        "id": "jkdfK60UB7-a"
      }
    },
    {
      "cell_type": "code",
      "source": [
        "def category_seperator(state):\n",
        "    \"\"\"\n",
        "    Route email to web search or not.\n",
        "    Args:\n",
        "        state (dict): The current graph state\n",
        "    Returns:\n",
        "        str: Next node to call\n",
        "    \"\"\"\n",
        "\n",
        "    print(\"---ROUTE TO catgoried email---\")\n",
        "    email_category = state[\"email_category\"]\n",
        "    print(f\"Email category: {email_category} (Type: {type(email_category)})\")\n",
        "\n",
        "    if 'availability_inquiry' in email_category:\n",
        "        print(\"---ROUTE EMAIL TO get_items---\")\n",
        "        return \"get_items_\"\n",
        "    elif 'customer_review' in email_category :\n",
        "        print(\"---ROUTE EMAIL TO sentment email---\")\n",
        "        return \"sentment_email_\"\n",
        "    elif 'product_enquiry' in email_category :\n",
        "        print(\"---ROUTE EMAIL TO question handling---\")\n",
        "        return \"question_handling_\"\n",
        "    elif 'off_topic' in email_category :\n",
        "      print(\"---ROUTE EMAIL TO cs_email---\")\n",
        "      return \"cs_email_\""
      ],
      "metadata": {
        "id": "ZzAPDD9kD73W"
      },
      "execution_count": null,
      "outputs": []
    },
    {
      "cell_type": "markdown",
      "source": [
        "<h1>Build Graph<h1/>\n",
        "<h3>Add node<h3/>"
      ],
      "metadata": {
        "id": "LHxLkvxWNXap"
      }
    },
    {
      "cell_type": "code",
      "source": [
        "workflow = StateGraph(GraphState)\n",
        "\n",
        "# Define the nodes\n",
        "workflow.add_node(\"categorize_email\", categorize_email)\n",
        "workflow.add_node(\"get_items\", get_items)\n",
        "workflow.add_node(\"sentiment_email\", sentiment_email)\n",
        "workflow.add_node(\"question_handling\", question_handling)\n",
        "workflow.add_node(\"Cs_email\", Cs_email)\n",
        "workflow.add_node(\"inquery_email\", inquery_email)\n",
        "workflow.add_node(\"review_email\", review_email)\n",
        "workflow.add_node(\"write_rag_email\", write_rag_email)"
      ],
      "metadata": {
        "id": "1Xy43EpaNKQt"
      },
      "execution_count": null,
      "outputs": []
    },
    {
      "cell_type": "markdown",
      "source": [
        "<h3>Add edge<h3/>"
      ],
      "metadata": {
        "id": "tYKNfWSqPR5j"
      }
    },
    {
      "cell_type": "code",
      "source": [
        "workflow.set_entry_point(\"categorize_email\")\n",
        "\n",
        "workflow.add_conditional_edges(\n",
        "    \"categorize_email\",\n",
        "    category_seperator,\n",
        "    {\n",
        "        \"get_items_\": \"get_items\",\n",
        "        \"sentment_email_\": \"sentiment_email\",\n",
        "        \"question_handling_\": \"question_handling\",\n",
        "        \"cs_email_\": \"Cs_email\",\n",
        "    },\n",
        ")\n",
        "workflow.add_edge(\"get_items\", \"inquery_email\")\n",
        "workflow.add_edge(\"sentiment_email\", \"review_email\")\n",
        "workflow.add_edge(\"review_email\", \"Cs_email\")\n",
        "workflow.add_edge(\"question_handling\", \"write_rag_email\")\n",
        "workflow.add_edge(\"inquery_email\",END)\n",
        "workflow.add_edge(\"Cs_email\",END)\n",
        "workflow.add_edge(\"write_rag_email\",END)"
      ],
      "metadata": {
        "id": "YDEjsSDhO8io"
      },
      "execution_count": null,
      "outputs": []
    },
    {
      "cell_type": "code",
      "source": [
        "\n",
        "# Compile\n",
        "app = workflow.compile()"
      ],
      "metadata": {
        "id": "-ijiclc5RZej"
      },
      "execution_count": null,
      "outputs": []
    },
    {
      "cell_type": "code",
      "source": [
        "EMAIL=\"\"\"HI there, \\n\n",
        "I am writing this email to express my dissatifaction for the products i rented.\n",
        "The products where unclean and unhygenic.The products were also overused.\n",
        "please see to it.\n",
        "\n",
        "Thanks,\n",
        "Ringo\n",
        "\"\"\""
      ],
      "metadata": {
        "id": "yQIE1jHcRoKB"
      },
      "execution_count": null,
      "outputs": []
    },
    {
      "cell_type": "code",
      "source": [
        "inputs = {\"initial_email\": EMAIL, \"num_steps\":0}\n",
        "for output in app.stream(inputs):\n",
        "    for key, value in output.items():\n",
        "        pprint(f\"Finished running: {key}:\")"
      ],
      "metadata": {
        "colab": {
          "base_uri": "https://localhost:8080/"
        },
        "id": "vcamGYejRc2L",
        "outputId": "b557d1fa-b16e-4db4-89d6-31c7f995a889"
      },
      "execution_count": null,
      "outputs": [
        {
          "output_type": "stream",
          "name": "stdout",
          "text": [
            "---CATEGORIZING INITIAL EMAIL---\n",
            "'customer_review'\n",
            "---ROUTE TO catgoried email---\n",
            "Email category: 'customer_review' (Type: <class 'str'>)\n",
            "---ROUTE EMAIL TO sentment email---\n",
            "'Finished running: categorize_email:'\n",
            "---FINDING SENTIMENTS---\n",
            "'Finished running: sentiment_email:'\n",
            "---getting the review email---\n",
            "'Finished running: review_email:'\n",
            "---getting the customer service email---\n",
            "'Finished running: Cs_email:'\n"
          ]
        }
      ]
    },
    {
      "cell_type": "code",
      "source": [
        "output = app.invoke(inputs)\n",
        "\n",
        "print(output)"
      ],
      "metadata": {
        "colab": {
          "base_uri": "https://localhost:8080/"
        },
        "id": "zDvlvnq2SJuH",
        "outputId": "864d9911-182c-40d3-8d02-1b3adea78f2a"
      },
      "execution_count": null,
      "outputs": [
        {
          "output_type": "stream",
          "name": "stdout",
          "text": [
            "---CATEGORIZING INITIAL EMAIL---\n",
            "'customer_review'\n",
            "---ROUTE TO catgoried email---\n",
            "Email category: 'customer_review' (Type: <class 'str'>)\n",
            "---ROUTE EMAIL TO sentment email---\n",
            "---FINDING SENTIMENTS---\n",
            "---getting the review email---\n",
            "---getting the customer service email---\n",
            "{'initial_email': 'HI there, \\n\\nI am writing this email to express my dissatifaction for the products i rented.\\nThe products where unclean and unhygenic.The products were also overused.\\nplease see to it.\\n\\nThanks,\\nRingo\\n', 'email_category': \"'customer_review'\", 'final_email': 'Dear Ringo,\\n\\nI am so sorry to hear that the products you rented from us did not meet your expectations. I apologize for the inconvenience and distress caused by the unclean and unhygienic condition of the equipment. I understand how frustrating it must be to receive overused products.\\n\\nI want to assure you that we take situations like this very seriously and I have escalated your concern to our CRM system for immediate follow-up. Our customer service team will be in touch with you shortly to discuss this further and provide a resolution.\\n\\nAs a token of our apology, we would like to offer you a gift voucher for your next rental. We value your business and would like to assure you that we are taking necessary steps to prevent such incidents in the future.\\n\\nThank you for bringing this to our attention.\\n\\nBest regards,\\nMohammed\\nResident Manager', 'CS_email': \"Subject: Concern with Recent Rental Experience\\n\\nDear Customer Service Team,\\n\\nI am forwarding an email from Ringo, who has expressed dissatisfaction with the products they rented from us. The concerns raised include the products being unclean, unhygienic, and overused.\\n\\nCould you please handle this situation professionally and ensure that the customer's issues are addressed promptly?\\n\\nThank you for your attention to this matter.\\n\\nBest regards,\\nMohammed, Resident Manager\", 'sentiment': 'negative', 'num_steps': 4}\n"
          ]
        }
      ]
    },
    {
      "cell_type": "code",
      "source": [
        "output.keys()"
      ],
      "metadata": {
        "colab": {
          "base_uri": "https://localhost:8080/"
        },
        "id": "xaWGvXjGSnAl",
        "outputId": "a75c9a32-3323-477c-e550-b82f604c9f60"
      },
      "execution_count": null,
      "outputs": [
        {
          "output_type": "execute_result",
          "data": {
            "text/plain": [
              "dict_keys(['initial_email', 'email_category', 'final_email', 'CS_email', 'sentiment', 'num_steps'])"
            ]
          },
          "metadata": {},
          "execution_count": 198
        }
      ]
    },
    {
      "cell_type": "code",
      "source": [
        "if output['final_email']:\n",
        "  print(output['final_email'])\n",
        "if output['CS_email']:\n",
        "  print(output['CS_email'])"
      ],
      "metadata": {
        "colab": {
          "base_uri": "https://localhost:8080/"
        },
        "id": "RIIO7rtCT2_G",
        "outputId": "faceea49-b88b-4078-fbdf-7e4f393a9458"
      },
      "execution_count": null,
      "outputs": [
        {
          "output_type": "stream",
          "name": "stdout",
          "text": [
            "Dear Ringo,\n",
            "\n",
            "I am so sorry to hear that the products you rented from us did not meet your expectations. I apologize for the inconvenience and distress caused by the unclean and unhygienic condition of the equipment. I understand how frustrating it must be to receive overused products.\n",
            "\n",
            "I want to assure you that we take situations like this very seriously and I have escalated your concern to our CRM system for immediate follow-up. Our customer service team will be in touch with you shortly to discuss this further and provide a resolution.\n",
            "\n",
            "As a token of our apology, we would like to offer you a gift voucher for your next rental. We value your business and would like to assure you that we are taking necessary steps to prevent such incidents in the future.\n",
            "\n",
            "Thank you for bringing this to our attention.\n",
            "\n",
            "Best regards,\n",
            "Mohammed\n",
            "Resident Manager\n",
            "Subject: Concern with Recent Rental Experience\n",
            "\n",
            "Dear Customer Service Team,\n",
            "\n",
            "I am forwarding an email from Ringo, who has expressed dissatisfaction with the products they rented from us. The concerns raised include the products being unclean, unhygienic, and overused.\n",
            "\n",
            "Could you please handle this situation professionally and ensure that the customer's issues are addressed promptly?\n",
            "\n",
            "Thank you for your attention to this matter.\n",
            "\n",
            "Best regards,\n",
            "Mohammed, Resident Manager\n"
          ]
        }
      ]
    },
    {
      "cell_type": "code",
      "source": [],
      "metadata": {
        "id": "-bDsVwUZdXLn"
      },
      "execution_count": null,
      "outputs": []
    }
  ]
}